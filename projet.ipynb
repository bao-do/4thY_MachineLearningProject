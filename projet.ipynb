{
 "cells": [
  {
   "cell_type": "markdown",
   "id": "0dcc5e4e-e764-4c63-9362-82c0ab28d06c",
   "metadata": {},
   "source": [
    "<center>\n",
    "<a href=\"http://www.insa-toulouse.fr/\" ><img src=\"http://www.math.univ-toulouse.fr/~besse/Wikistat/Images/logo-insa.jpg\" style=\"float:left; max-width: 120px; display: inline\" alt=\"INSA\"/></a> \n"
   ]
  },
  {
   "cell_type": "markdown",
   "id": "9893785e-0615-4bd4-9db5-a6c7961b572c",
   "metadata": {},
   "source": [
    "# Projet de Machine Learning\n",
    "#### Soutenances orale : 28 Mai 2025"
   ]
  },
  {
   "cell_type": "markdown",
   "id": "cd2101f5-926e-4f49-8b5c-2b6ad19eef57",
   "metadata": {},
   "source": [
    "# Introduction\n",
    "\n",
    "L'analyse des performances physiques et des habitudes d'entraînement est un sujet clé en science du sport et en santé. Dans le cadre de ce projet de **Machine Learning**, nous étudions un jeu de données provenant du site **Kaggle**, intitulé *Gym Members Exercise Dataset* ([source](https://www.kaggle.com/datasets/valakhorasani/gym-members-exercise-dataset)). Ce jeu de données fournit des informations détaillées sur les caractéristiques physiques, les routines d'exercice et la condition cardiovasculaire de **973 membres** fréquentant une salle de sport.\n",
    "\n",
    "### Objectif de l'étude\n",
    "\n",
    "L'objectif principal de cette analyse est d'explorer les **facteurs influençant la dépense énergétique et le niveau d'expérience** des individus. Nous nous intéressons en particulier à la **prédiction des calories brûlées** au cours d'une séance d'entraînement ainsi qu'à la **classification du niveau d'expérience des membres** en fonction des autres variables du dataset.\n",
    "\n",
    "### Approche méthodologique\n",
    "\n",
    "Dans un premier temps, nous effectuons une **analyse exploratoire** des données, afin de :\n",
    "- Vérifier la cohérence et la qualité des données.\n",
    "- Étudier la distribution des variables.\n",
    "- Identifier les relations entre les variables par des visualisations et des statistiques descriptives.\n",
    "\n",
    "Ensuite, nous utiliserons des **modèles de Machine Learning** pour prédire :\n",
    "1. **Les calories brûlées** en fonction des caractéristiques physiques et des habitudes d'entraînement.\n",
    "2. **Le niveau d'expérience des membres**, en intégrant la dépense calorique comme variable explicative.\n",
    "\n",
    "Nous comparerons plusieurs algorithmes, tels que la **régression linéaire, les forêts aléatoires, les SVM et les réseaux de neurones**, en optimisant leurs hyperparamètres pour améliorer les performances prédictives.\n",
    "\n",
    "### Organisation du document\n",
    "\n",
    "Ce document suit la structure suivante :\n",
    "1. **Exploration des données et statistiques descriptives**.\n",
    "2. **Visualisations et corrélations entre variables**.\n",
    "3. **Modélisation prédictive des calories brûlées et du niveau d’expérience**.\n",
    "4. **Interprétation des résultats et conclusions**.\n",
    "\n",
    "Cette analyse permettra de mieux comprendre les **facteurs influençant la performance et l'expérience sportive**, avec des applications potentielles en coaching sportif et en suivi de la condition physique.\n",
    "\n",
    "---\n"
   ]
  },
  {
   "cell_type": "markdown",
   "id": "eefc6706-3ead-4295-b4ca-d9ab8774d952",
   "metadata": {},
   "source": [
    "# Statistiques descriptives "
   ]
  },
  {
   "cell_type": "code",
   "execution_count": 2,
   "id": "b0beae08-ed92-4a4f-8ff2-2e3f0136e566",
   "metadata": {},
   "outputs": [],
   "source": [
    "# Chargement des librairies nécessaires\n",
    "library(ggplot2)\n",
    "library(tidyverse)\n",
    "library(gridExtra)\n",
    "library(GGally)\n",
    "library(plotly)\n",
    "library(corrplot)\n",
    "library(reshape2)\n",
    "library(FactoMineR) \n",
    "library(factoextra)\n",
    "library(glmnet) \n",
    "library(ggfortify)\n",
    "library(pROC)\n",
    "library(ROCR)"
   ]
  },
  {
   "cell_type": "markdown",
   "id": "6959050a-2b27-41f1-8a6c-07a1e05aa747",
   "metadata": {},
   "source": [
    "## Prise en charge des données"
   ]
  },
  {
   "cell_type": "markdown",
   "id": "b09a0737-41ee-4501-80cd-c0513f5b6288",
   "metadata": {},
   "source": [
    "Le jeu de données contient **15 variables**, qui peuvent être classées en différentes catégories :\n",
    "\n",
    "- **Données démographiques :**  \n",
    "  - `Age` : âge du membre (en années).  \n",
    "  - `Gender` : sexe du membre (*Male* ou *Female*).  \n",
    "  - `Weight (kg)`, `Height (m)`, `BMI` : caractéristiques anthropométriques.  \n",
    "  - `Fat_Percentage` : pourcentage de graisse corporelle.  \n",
    "\n",
    "- **Données cardiovasculaires :**  \n",
    "  - `Max_BPM`, `Avg_BPM`, `Resting_BPM` : mesures de la fréquence cardiaque avant et pendant l'entraînement.  \n",
    "\n",
    "- **Informations sur l'entraînement :**  \n",
    "  - `Workout_Type` : type d'entraînement (Cardio, Musculation, Yoga, HIIT).  \n",
    "  - `Session_Duration (hours)`, `Calories_Burned` : durée et intensité de la séance.  \n",
    "  - `Workout_Frequency (days/week)`, `Experience_Level` : fréquence et niveau d’expérience (1 = Débutant, 3 = Expert).  \n",
    "\n",
    "- **Facteurs de mode de vie :**  \n",
    "  - `Water_Intake (liters)` : consommation d’eau quotidienne.  \n",
    "\n",
    "L'**indice de masse corporelle (IMC)** est défini par la formule :\n",
    "\n",
    "$$ BMI = \\frac{\\text{Poids (kg)}}{\\text{Taille (m)}^2} $$"
   ]
  },
  {
   "cell_type": "code",
   "execution_count": 5,
   "id": "4e870fb0-682d-4d2c-8beb-01ab4e8e0feb",
   "metadata": {},
   "outputs": [
    {
     "data": {
      "text/html": [
       "<table class=\"dataframe\">\n",
       "<caption>A data.frame: 6 × 15</caption>\n",
       "<thead>\n",
       "\t<tr><th></th><th scope=col>Age</th><th scope=col>Gender</th><th scope=col>Weight..kg.</th><th scope=col>Height..m.</th><th scope=col>Max_BPM</th><th scope=col>Avg_BPM</th><th scope=col>Resting_BPM</th><th scope=col>Session_Duration..hours.</th><th scope=col>Calories_Burned</th><th scope=col>Workout_Type</th><th scope=col>Fat_Percentage</th><th scope=col>Water_Intake..liters.</th><th scope=col>Workout_Frequency..days.week.</th><th scope=col>Experience_Level</th><th scope=col>BMI</th></tr>\n",
       "\t<tr><th></th><th scope=col>&lt;int&gt;</th><th scope=col>&lt;chr&gt;</th><th scope=col>&lt;dbl&gt;</th><th scope=col>&lt;dbl&gt;</th><th scope=col>&lt;int&gt;</th><th scope=col>&lt;int&gt;</th><th scope=col>&lt;int&gt;</th><th scope=col>&lt;dbl&gt;</th><th scope=col>&lt;dbl&gt;</th><th scope=col>&lt;chr&gt;</th><th scope=col>&lt;dbl&gt;</th><th scope=col>&lt;dbl&gt;</th><th scope=col>&lt;int&gt;</th><th scope=col>&lt;int&gt;</th><th scope=col>&lt;dbl&gt;</th></tr>\n",
       "</thead>\n",
       "<tbody>\n",
       "\t<tr><th scope=row>1</th><td>56</td><td>Male  </td><td>88.3</td><td>1.71</td><td>180</td><td>157</td><td>60</td><td>1.69</td><td>1313</td><td>Yoga    </td><td>12.6</td><td>3.5</td><td>4</td><td>3</td><td>30.20</td></tr>\n",
       "\t<tr><th scope=row>2</th><td>46</td><td>Female</td><td>74.9</td><td>1.53</td><td>179</td><td>151</td><td>66</td><td>1.30</td><td> 883</td><td>HIIT    </td><td>33.9</td><td>2.1</td><td>4</td><td>2</td><td>32.00</td></tr>\n",
       "\t<tr><th scope=row>3</th><td>32</td><td>Female</td><td>68.1</td><td>1.66</td><td>167</td><td>122</td><td>54</td><td>1.11</td><td> 677</td><td>Cardio  </td><td>33.4</td><td>2.3</td><td>4</td><td>2</td><td>24.71</td></tr>\n",
       "\t<tr><th scope=row>4</th><td>25</td><td>Male  </td><td>53.2</td><td>1.70</td><td>190</td><td>164</td><td>56</td><td>0.59</td><td> 532</td><td>Strength</td><td>28.8</td><td>2.1</td><td>3</td><td>1</td><td>18.41</td></tr>\n",
       "\t<tr><th scope=row>5</th><td>38</td><td>Male  </td><td>46.1</td><td>1.79</td><td>188</td><td>158</td><td>68</td><td>0.64</td><td> 556</td><td>Strength</td><td>29.2</td><td>2.8</td><td>3</td><td>1</td><td>14.39</td></tr>\n",
       "\t<tr><th scope=row>6</th><td>56</td><td>Female</td><td>58.0</td><td>1.68</td><td>168</td><td>156</td><td>74</td><td>1.59</td><td>1116</td><td>HIIT    </td><td>15.5</td><td>2.7</td><td>5</td><td>3</td><td>20.55</td></tr>\n",
       "</tbody>\n",
       "</table>\n"
      ],
      "text/latex": [
       "A data.frame: 6 × 15\n",
       "\\begin{tabular}{r|lllllllllllllll}\n",
       "  & Age & Gender & Weight..kg. & Height..m. & Max\\_BPM & Avg\\_BPM & Resting\\_BPM & Session\\_Duration..hours. & Calories\\_Burned & Workout\\_Type & Fat\\_Percentage & Water\\_Intake..liters. & Workout\\_Frequency..days.week. & Experience\\_Level & BMI\\\\\n",
       "  & <int> & <chr> & <dbl> & <dbl> & <int> & <int> & <int> & <dbl> & <dbl> & <chr> & <dbl> & <dbl> & <int> & <int> & <dbl>\\\\\n",
       "\\hline\n",
       "\t1 & 56 & Male   & 88.3 & 1.71 & 180 & 157 & 60 & 1.69 & 1313 & Yoga     & 12.6 & 3.5 & 4 & 3 & 30.20\\\\\n",
       "\t2 & 46 & Female & 74.9 & 1.53 & 179 & 151 & 66 & 1.30 &  883 & HIIT     & 33.9 & 2.1 & 4 & 2 & 32.00\\\\\n",
       "\t3 & 32 & Female & 68.1 & 1.66 & 167 & 122 & 54 & 1.11 &  677 & Cardio   & 33.4 & 2.3 & 4 & 2 & 24.71\\\\\n",
       "\t4 & 25 & Male   & 53.2 & 1.70 & 190 & 164 & 56 & 0.59 &  532 & Strength & 28.8 & 2.1 & 3 & 1 & 18.41\\\\\n",
       "\t5 & 38 & Male   & 46.1 & 1.79 & 188 & 158 & 68 & 0.64 &  556 & Strength & 29.2 & 2.8 & 3 & 1 & 14.39\\\\\n",
       "\t6 & 56 & Female & 58.0 & 1.68 & 168 & 156 & 74 & 1.59 & 1116 & HIIT     & 15.5 & 2.7 & 5 & 3 & 20.55\\\\\n",
       "\\end{tabular}\n"
      ],
      "text/markdown": [
       "\n",
       "A data.frame: 6 × 15\n",
       "\n",
       "| <!--/--> | Age &lt;int&gt; | Gender &lt;chr&gt; | Weight..kg. &lt;dbl&gt; | Height..m. &lt;dbl&gt; | Max_BPM &lt;int&gt; | Avg_BPM &lt;int&gt; | Resting_BPM &lt;int&gt; | Session_Duration..hours. &lt;dbl&gt; | Calories_Burned &lt;dbl&gt; | Workout_Type &lt;chr&gt; | Fat_Percentage &lt;dbl&gt; | Water_Intake..liters. &lt;dbl&gt; | Workout_Frequency..days.week. &lt;int&gt; | Experience_Level &lt;int&gt; | BMI &lt;dbl&gt; |\n",
       "|---|---|---|---|---|---|---|---|---|---|---|---|---|---|---|---|\n",
       "| 1 | 56 | Male   | 88.3 | 1.71 | 180 | 157 | 60 | 1.69 | 1313 | Yoga     | 12.6 | 3.5 | 4 | 3 | 30.20 |\n",
       "| 2 | 46 | Female | 74.9 | 1.53 | 179 | 151 | 66 | 1.30 |  883 | HIIT     | 33.9 | 2.1 | 4 | 2 | 32.00 |\n",
       "| 3 | 32 | Female | 68.1 | 1.66 | 167 | 122 | 54 | 1.11 |  677 | Cardio   | 33.4 | 2.3 | 4 | 2 | 24.71 |\n",
       "| 4 | 25 | Male   | 53.2 | 1.70 | 190 | 164 | 56 | 0.59 |  532 | Strength | 28.8 | 2.1 | 3 | 1 | 18.41 |\n",
       "| 5 | 38 | Male   | 46.1 | 1.79 | 188 | 158 | 68 | 0.64 |  556 | Strength | 29.2 | 2.8 | 3 | 1 | 14.39 |\n",
       "| 6 | 56 | Female | 58.0 | 1.68 | 168 | 156 | 74 | 1.59 | 1116 | HIIT     | 15.5 | 2.7 | 5 | 3 | 20.55 |\n",
       "\n"
      ],
      "text/plain": [
       "  Age Gender Weight..kg. Height..m. Max_BPM Avg_BPM Resting_BPM\n",
       "1 56  Male   88.3        1.71       180     157     60         \n",
       "2 46  Female 74.9        1.53       179     151     66         \n",
       "3 32  Female 68.1        1.66       167     122     54         \n",
       "4 25  Male   53.2        1.70       190     164     56         \n",
       "5 38  Male   46.1        1.79       188     158     68         \n",
       "6 56  Female 58.0        1.68       168     156     74         \n",
       "  Session_Duration..hours. Calories_Burned Workout_Type Fat_Percentage\n",
       "1 1.69                     1313            Yoga         12.6          \n",
       "2 1.30                      883            HIIT         33.9          \n",
       "3 1.11                      677            Cardio       33.4          \n",
       "4 0.59                      532            Strength     28.8          \n",
       "5 0.64                      556            Strength     29.2          \n",
       "6 1.59                     1116            HIIT         15.5          \n",
       "  Water_Intake..liters. Workout_Frequency..days.week. Experience_Level BMI  \n",
       "1 3.5                   4                             3                30.20\n",
       "2 2.1                   4                             2                32.00\n",
       "3 2.3                   4                             2                24.71\n",
       "4 2.1                   3                             1                18.41\n",
       "5 2.8                   3                             1                14.39\n",
       "6 2.7                   5                             3                20.55"
      ]
     },
     "metadata": {},
     "output_type": "display_data"
    },
    {
     "data": {
      "text/plain": [
       "      Age           Gender           Weight..kg.       Height..m.   \n",
       " Min.   :18.00   Length:973         Min.   : 40.00   Min.   :1.500  \n",
       " 1st Qu.:28.00   Class :character   1st Qu.: 58.10   1st Qu.:1.620  \n",
       " Median :40.00   Mode  :character   Median : 70.00   Median :1.710  \n",
       " Mean   :38.68                      Mean   : 73.85   Mean   :1.723  \n",
       " 3rd Qu.:49.00                      3rd Qu.: 86.00   3rd Qu.:1.800  \n",
       " Max.   :59.00                      Max.   :129.90   Max.   :2.000  \n",
       "    Max_BPM         Avg_BPM       Resting_BPM    Session_Duration..hours.\n",
       " Min.   :160.0   Min.   :120.0   Min.   :50.00   Min.   :0.500           \n",
       " 1st Qu.:170.0   1st Qu.:131.0   1st Qu.:56.00   1st Qu.:1.040           \n",
       " Median :180.0   Median :143.0   Median :62.00   Median :1.260           \n",
       " Mean   :179.9   Mean   :143.8   Mean   :62.22   Mean   :1.256           \n",
       " 3rd Qu.:190.0   3rd Qu.:156.0   3rd Qu.:68.00   3rd Qu.:1.460           \n",
       " Max.   :199.0   Max.   :169.0   Max.   :74.00   Max.   :2.000           \n",
       " Calories_Burned  Workout_Type       Fat_Percentage  Water_Intake..liters.\n",
       " Min.   : 303.0   Length:973         Min.   :10.00   Min.   :1.500        \n",
       " 1st Qu.: 720.0   Class :character   1st Qu.:21.30   1st Qu.:2.200        \n",
       " Median : 893.0   Mode  :character   Median :26.20   Median :2.600        \n",
       " Mean   : 905.4                      Mean   :24.98   Mean   :2.627        \n",
       " 3rd Qu.:1076.0                      3rd Qu.:29.30   3rd Qu.:3.100        \n",
       " Max.   :1783.0                      Max.   :35.00   Max.   :3.700        \n",
       " Workout_Frequency..days.week. Experience_Level      BMI       \n",
       " Min.   :2.000                 Min.   :1.00     Min.   :12.32  \n",
       " 1st Qu.:3.000                 1st Qu.:1.00     1st Qu.:20.11  \n",
       " Median :3.000                 Median :2.00     Median :24.16  \n",
       " Mean   :3.322                 Mean   :1.81     Mean   :24.91  \n",
       " 3rd Qu.:4.000                 3rd Qu.:2.00     3rd Qu.:28.56  \n",
       " Max.   :5.000                 Max.   :3.00     Max.   :49.84  "
      ]
     },
     "metadata": {},
     "output_type": "display_data"
    }
   ],
   "source": [
    "# Lecture des données\n",
    "# path=\"http://www.math.univ-toulouse.fr/~besse/Wikistat/data/\"\n",
    "path <- \"\"\n",
    "ozone <- read.table(paste(path, \"gym_members_exercise_tracking.csv\", sep = \"\"),\n",
    "                    sep = \",\", header = TRUE)\n",
    "# Premières lignes du jeu de données\n",
    "head(ozone)\n",
    "# Vérification du contenu\n",
    "summary(ozone)"
   ]
  },
  {
   "cell_type": "code",
   "execution_count": null,
   "id": "6435954d-1a6b-4ea4-a1ef-628d04bc2a8c",
   "metadata": {},
   "outputs": [],
   "source": []
  }
 ],
 "metadata": {
  "kernelspec": {
   "display_name": "R",
   "language": "R",
   "name": "ir"
  },
  "language_info": {
   "codemirror_mode": "r",
   "file_extension": ".r",
   "mimetype": "text/x-r-source",
   "name": "R",
   "pygments_lexer": "r",
   "version": "4.4.1"
  }
 },
 "nbformat": 4,
 "nbformat_minor": 5
}
